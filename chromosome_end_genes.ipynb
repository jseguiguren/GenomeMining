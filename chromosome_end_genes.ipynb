{
  "nbformat": 4,
  "nbformat_minor": 0,
  "metadata": {
    "colab": {
      "provenance": [],
      "authorship_tag": "ABX9TyMczZXxPuptwrgYO5p3QZRm",
      "include_colab_link": true
    },
    "kernelspec": {
      "name": "python3",
      "display_name": "Python 3"
    },
    "language_info": {
      "name": "python"
    }
  },
  "cells": [
    {
      "cell_type": "markdown",
      "metadata": {
        "id": "view-in-github",
        "colab_type": "text"
      },
      "source": [
        "<a href=\"https://colab.research.google.com/github/jseguiguren/GenomeMining/blob/main/chromosome_end_genes.ipynb\" target=\"_parent\"><img src=\"https://colab.research.google.com/assets/colab-badge.svg\" alt=\"Open In Colab\"/></a>"
      ]
    },
    {
      "cell_type": "code",
      "source": [
        "import requests\n",
        "\n",
        "# Define the Ensembl REST API endpoint and species\n",
        "ensembl_endpoint = \"https://rest.ensembl.org\"\n",
        "species = \"danio_rerio\"  # Zebrafish species\n",
        "\n",
        "# Fetch chromosome information from Ensembl\n",
        "chromosomes_url = f\"{ensembl_endpoint}/info/assembly/{species}\"\n",
        "chromosomes_response = requests.get(chromosomes_url, headers={\"Content-Type\": \"application/json\"})\n",
        "\n",
        "if chromosomes_response.status_code == 200:\n",
        "    chromosomes_data = chromosomes_response.json()\n",
        "    chromosomes = chromosomes_data['top_level_region']\n",
        "else:\n",
        "    print(f\"Error fetching chromosome information: {chromosomes_response.status_code}\")\n",
        "    chromosomes = []\n",
        "\n",
        "# Define telomeric regions (both sides of each chromosome)\n",
        "telomeric_regions = []\n",
        "\n",
        "for chromosome in chromosomes:\n",
        "    if chromosome['name'].startswith(\"chrUn\"):  # Skip 'chrUn' chromosomes\n",
        "        continue\n",
        "\n",
        "    telomeric_regions.append(\n",
        "        {\"chr\": chromosome['name'], \"start\": 1, \"end\": 100000}\n",
        "    )\n",
        "    telomeric_regions.append(\n",
        "        {\"chr\": chromosome['name'], \"start\": chromosome['length'] - 100000, \"end\": chromosome['length']}\n",
        "    )\n",
        "\n",
        "# Define the distance threshold to consider genes as \"close\" to telomeres\n",
        "proximity_threshold = 10000  # Example threshold distance\n",
        "\n",
        "# Fetch gene information from Ensembl for each telomeric region\n",
        "genes_near_telomeres = []\n",
        "\n",
        "for region in telomeric_regions:\n",
        "    region_str = f\"{region['chr']}:{region['start']}-{region['end']}\"\n",
        "    url = f\"{ensembl_endpoint}/overlap/region/{species}/{region_str}?feature=gene\"\n",
        "\n",
        "    response = requests.get(url, headers={\"Content-Type\": \"application/json\"})\n",
        "\n",
        "    if response.status_code == 200:\n",
        "        gene_data = response.json()\n",
        "        for gene in gene_data:\n",
        "            if gene['biotype'] == 'protein_coding' and 'external_name' in gene:\n",
        "                gene_id = gene['id']\n",
        "                external_gene_name = gene['external_name']\n",
        "                chromosome_number = region['chr']\n",
        "                gene_start = gene['start']\n",
        "                gene_end = gene['end']\n",
        "                distance_to_telomere = min(\n",
        "                    abs(gene_start - region['start']),\n",
        "                    abs(gene_end - region['start']),\n",
        "                    abs(gene_start - region['end']),\n",
        "                    abs(gene_end - region['end'])\n",
        "                )\n",
        "                if distance_to_telomere <= proximity_threshold:\n",
        "                    gene_location = \"Start\" if abs(gene_start - region['start']) < abs(gene_end - region['end']) else \"End\"\n",
        "                    genes_near_telomeres.append((chromosome_number, gene_id, external_gene_name, gene_location))\n",
        "    else:\n",
        "        print(f\"Error fetching data for region {region_str}: {response.status_code}\")\n",
        "\n",
        "# Print the list of protein-coding genes near telomeric regions with external gene names and location\n",
        "print(\"Protein-coding genes near telomeric regions with external gene names and location:\")\n",
        "for chromosome, gene_id, external_gene_name, gene_location in genes_near_telomeres:\n",
        "    print(f\"Chromosome {chromosome}: Gene ID {gene_id}, External Gene Name {external_gene_name}, Location {gene_location}\")\n"
      ],
      "metadata": {
        "id": "gfH8P2pd749a"
      },
      "execution_count": null,
      "outputs": []
    },
    {
      "cell_type": "code",
      "source": [
        "import csv\n",
        "\n",
        "# Write the list of protein-coding genes near telomeric regions with external gene names and location to a CSV file\n",
        "csv_file = \"genes_near_telomeres.csv\"\n",
        "\n",
        "with open(csv_file, \"w\", newline=\"\") as file:\n",
        "    csv_writer = csv.writer(file)\n",
        "    csv_writer.writerow([\"Chromosome\", \"Gene ID\", \"External Gene Name\", \"Location\"])\n",
        "    for chromosome, gene_id, external_gene_name, gene_location in genes_near_telomeres:\n",
        "        csv_writer.writerow([chromosome, gene_id, external_gene_name, gene_location])\n",
        "\n",
        "print(f\"Data exported to {csv_file}\")"
      ],
      "metadata": {
        "colab": {
          "base_uri": "https://localhost:8080/"
        },
        "id": "cwKutRBK-5lF",
        "outputId": "ea9bcf7f-209f-4f66-a383-c22ab9fba6b9"
      },
      "execution_count": null,
      "outputs": [
        {
          "output_type": "stream",
          "name": "stdout",
          "text": [
            "Data exported to genes_near_telomeres.csv\n"
          ]
        }
      ]
    },
    {
      "cell_type": "code",
      "source": [
        "pwd"
      ],
      "metadata": {
        "colab": {
          "base_uri": "https://localhost:8080/",
          "height": 36
        },
        "id": "wkpZSf7uCSTK",
        "outputId": "b5af0daa-6a13-4a37-97a0-da8b0b397ca5"
      },
      "execution_count": null,
      "outputs": [
        {
          "output_type": "execute_result",
          "data": {
            "text/plain": [
              "'/content'"
            ],
            "application/vnd.google.colaboratory.intrinsic+json": {
              "type": "string"
            }
          },
          "metadata": {},
          "execution_count": 27
        }
      ]
    },
    {
      "cell_type": "code",
      "source": [],
      "metadata": {
        "id": "4B6cxmOPHc6z"
      },
      "execution_count": null,
      "outputs": []
    }
  ]
}